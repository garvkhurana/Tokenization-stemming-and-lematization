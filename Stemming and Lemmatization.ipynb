{
 "cells": [
  {
   "cell_type": "code",
   "execution_count": 17,
   "id": "2569a418-5ecf-45a9-bdc7-b033929fcff8",
   "metadata": {},
   "outputs": [],
   "source": [
    "import nltk"
   ]
  },
  {
   "cell_type": "code",
   "execution_count": 18,
   "id": "e0bbf995-86b4-47b9-a7a7-74b968e56a02",
   "metadata": {},
   "outputs": [],
   "source": [
    "corpus=\"\"\"He thus came to be known as the Missile Man of India for his work on the development of ballistic missile and launch vehicle technology\n",
    "\"\"\""
   ]
  },
  {
   "cell_type": "code",
   "execution_count": 19,
   "id": "8270b95e-c9cb-4fb0-b5f4-5ff5dd69a69c",
   "metadata": {},
   "outputs": [],
   "source": [
    "from nltk.tokenize import sent_tokenize"
   ]
  },
  {
   "cell_type": "code",
   "execution_count": 20,
   "id": "540cc2be-0e3f-4b00-b73d-47cacd38d0cb",
   "metadata": {},
   "outputs": [
    {
     "data": {
      "text/plain": [
       "['He thus came to be known as the Missile Man of India for his work on the development of ballistic missile and launch vehicle technology']"
      ]
     },
     "execution_count": 20,
     "metadata": {},
     "output_type": "execute_result"
    }
   ],
   "source": [
    "sent_tokenize(corpus)"
   ]
  },
  {
   "cell_type": "code",
   "execution_count": 21,
   "id": "0354c9dd-8ec7-4798-9279-2affb9e3fe2e",
   "metadata": {},
   "outputs": [],
   "source": [
    "from nltk.tokenize import word_tokenize"
   ]
  },
  {
   "cell_type": "code",
   "execution_count": 27,
   "id": "18075aae-df72-4f32-bf73-e18f6acfa073",
   "metadata": {},
   "outputs": [],
   "source": [
    "text=word_tokenize(corpus)"
   ]
  },
  {
   "cell_type": "code",
   "execution_count": 24,
   "id": "720ffcb0-84bb-4c4f-bc6c-8fa926b1b90f",
   "metadata": {},
   "outputs": [],
   "source": [
    "from nltk.stem import PorterStemmer"
   ]
  },
  {
   "cell_type": "code",
   "execution_count": 25,
   "id": "54ebdca4-3c82-44cb-814d-78407899cd01",
   "metadata": {},
   "outputs": [],
   "source": [
    "stemmer=PorterStemmer()"
   ]
  },
  {
   "cell_type": "code",
   "execution_count": 39,
   "id": "8361f80a-152b-49d4-9def-f8700fafa606",
   "metadata": {},
   "outputs": [],
   "source": [
    "words=[\"stemming\",\"playing\",\"exercising\",\"history\",\"eating\"]"
   ]
  },
  {
   "cell_type": "code",
   "execution_count": 45,
   "id": "cc97d14a-0fa1-4a50-af63-b3873fb8b381",
   "metadata": {},
   "outputs": [
    {
     "name": "stdout",
     "output_type": "stream",
     "text": [
      "stemming ----> stem\n",
      "playing ----> play\n",
      "exercising ----> exercis\n",
      "history ----> histori\n",
      "eating ----> eat\n"
     ]
    }
   ],
   "source": [
    "for word in words:\n",
    "  print(word + \" ----> \" + stemmer.stem(word))"
   ]
  },
  {
   "cell_type": "markdown",
   "id": "9737f908-d06a-4173-bf95-1fe97b5ae1dd",
   "metadata": {},
   "source": [
    "here there is a mistake the main disadvantage of stemming is that it sometimes cant get to a word's root node"
   ]
  },
  {
   "cell_type": "markdown",
   "id": "519be229-fb25-41d3-8ac5-cf2a1a9a72d2",
   "metadata": {},
   "source": [
    "Snowball stemming is an advanced version of it"
   ]
  },
  {
   "cell_type": "code",
   "execution_count": 46,
   "id": "dd81814c-daa3-4c13-a30a-fef8bca92078",
   "metadata": {},
   "outputs": [],
   "source": [
    "from nltk.stem import SnowballStemmer"
   ]
  },
  {
   "cell_type": "code",
   "execution_count": 50,
   "id": "4a52be18-8af5-49f6-ab3b-7e3e0046ae25",
   "metadata": {},
   "outputs": [],
   "source": [
    "stem=SnowballStemmer(language=\"english\",ignore_stopwords=True)"
   ]
  },
  {
   "cell_type": "code",
   "execution_count": 51,
   "id": "78e00a70-59ec-4142-ac71-234ec64e51de",
   "metadata": {},
   "outputs": [
    {
     "name": "stdout",
     "output_type": "stream",
     "text": [
      "stemming ----> stem\n",
      "playing ----> play\n",
      "exercising ----> exercis\n",
      "history ----> histori\n",
      "eating ----> eat\n"
     ]
    }
   ],
   "source": [
    "for word in words:\n",
    "  print(word + \" ----> \" + stem.stem(word))"
   ]
  },
  {
   "cell_type": "markdown",
   "id": "27dffe90-8420-4a6e-9815-51ebe3ca67bf",
   "metadata": {},
   "source": [
    "still there are too much of loop holes to overcome this we use lemmatization"
   ]
  },
  {
   "cell_type": "code",
   "execution_count": 52,
   "id": "2e2c5380-eb21-4fc2-a8dd-140add92ea00",
   "metadata": {},
   "outputs": [],
   "source": [
    "from nltk.stem import WordNetLemmatizer"
   ]
  },
  {
   "cell_type": "code",
   "execution_count": 57,
   "id": "b0778d4c-dec5-4f96-84c1-623fe41c6be6",
   "metadata": {},
   "outputs": [],
   "source": [
    "lemma=WordNetLemmatizer()"
   ]
  },
  {
   "cell_type": "code",
   "execution_count": 60,
   "id": "7d0929d1-77ea-449b-87cf-94ae7590e9e4",
   "metadata": {},
   "outputs": [
    {
     "name": "stdout",
     "output_type": "stream",
     "text": [
      "stemming ----> stem\n",
      "playing ----> play\n",
      "exercising ----> exercise\n",
      "history ----> history\n",
      "eating ----> eat\n"
     ]
    }
   ],
   "source": [
    "for word in words:\n",
    "  print(word + \" ----> \" + lemma.lemmatize(word,pos=\"v\"))"
   ]
  },
  {
   "cell_type": "markdown",
   "id": "8b7c7125-5fc4-4e7c-92dd-6d373b0d6474",
   "metadata": {},
   "source": [
    "the lemmatizer takes the positional arguements such as\n",
    "\n",
    "\n",
    "v=verb\n",
    "\n",
    "\n",
    "a=adjective\n",
    "\n",
    "\n",
    "n=noun\n",
    "\n",
    "\n",
    "r=adverb"
   ]
  },
  {
   "cell_type": "code",
   "execution_count": null,
   "id": "2d65def8-93dc-4adf-b8ba-9f738936c47e",
   "metadata": {},
   "outputs": [],
   "source": []
  },
  {
   "cell_type": "code",
   "execution_count": null,
   "id": "c623de17-eb13-4a54-ba05-83679aa28ecc",
   "metadata": {},
   "outputs": [],
   "source": []
  },
  {
   "cell_type": "code",
   "execution_count": null,
   "id": "98509d4b-b3b2-494c-a0de-6b99c59766ea",
   "metadata": {},
   "outputs": [],
   "source": []
  },
  {
   "cell_type": "code",
   "execution_count": null,
   "id": "592a2d6f-656b-4173-a794-67cfb7d9a24d",
   "metadata": {},
   "outputs": [],
   "source": []
  },
  {
   "cell_type": "code",
   "execution_count": null,
   "id": "c3bd3c3a-fd4b-465f-83c4-1c40bd95eb45",
   "metadata": {},
   "outputs": [],
   "source": []
  },
  {
   "cell_type": "code",
   "execution_count": null,
   "id": "a0dfc69e-5cca-4360-8438-7c393d06aaab",
   "metadata": {},
   "outputs": [],
   "source": []
  }
 ],
 "metadata": {
  "kernelspec": {
   "display_name": "Python 3 (ipykernel)",
   "language": "python",
   "name": "python3"
  },
  "language_info": {
   "codemirror_mode": {
    "name": "ipython",
    "version": 3
   },
   "file_extension": ".py",
   "mimetype": "text/x-python",
   "name": "python",
   "nbconvert_exporter": "python",
   "pygments_lexer": "ipython3",
   "version": "3.11.5"
  }
 },
 "nbformat": 4,
 "nbformat_minor": 5
}
